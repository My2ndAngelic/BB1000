{
 "cells": [
  {
   "cell_type": "markdown",
   "metadata": {
    "pycharm": {
     "name": "#%% md\n"
    }
   },
   "source": [
    "Before you turn this problem in, make sure everything runs as expected. First, **restart the kernel** (in the menubar, select Kernel$\\rightarrow$Restart) and then **run all cells** (in the menubar, select Cell$\\rightarrow$Run All).\n",
    "\n",
    "Make sure you fill in any place that says `YOUR CODE HERE` or \"YOUR ANSWER HERE\", as well as your name and collaborators below:"
   ]
  },
  {
   "cell_type": "code",
   "execution_count": null,
   "metadata": {
    "pycharm": {
     "name": "#%%\n"
    }
   },
   "outputs": [],
   "source": [
    "NAME = \"\""
   ]
  },
  {
   "cell_type": "markdown",
   "metadata": {
    "pycharm": {
     "name": "#%% md\n"
    }
   },
   "source": [
    "---"
   ]
  },
  {
   "cell_type": "markdown",
   "metadata": {
    "deletable": false,
    "editable": false,
    "nbgrader": {
     "cell_type": "markdown",
     "checksum": "e3a2f1d8d2d590c72dbae8a4f6164207",
     "grade": false,
     "grade_id": "cell-5930d298e0fb0e89",
     "locked": true,
     "schema_version": 3,
     "solution": false,
     "task": false
    },
    "pycharm": {
     "name": "#%% md\n"
    }
   },
   "source": [
    "# Using classes in Python\n",
    "\n",
    "* Date: 2022-05-06\n",
    "* Deadline: 2022-05-20\n",
    "\n",
    "### A. Create class for 3D vector \n",
    "\n",
    "Create a class for storing a 3D vector (x, y, z coordinates), and which provides a set of functions for manipulating the coordinates.  \n",
    "\n",
    "* Implement class Vector3D which has the following properties:\n",
    "* Attributes\n",
    "    - coord_x stores x coordinate (object attribute)\n",
    "    - coord_y stores y coordinate (object attribute)\n",
    "    - coord_z stores z coordinate (object attribute)\n",
    "* Ordinary class methods \n",
    "    - length() : computes length of vector* \n",
    "    - renormalize()   : renormalizes vector to unit length vector*\n",
    "      * for square root use math.sqrt function from math library\n",
    "* Overloaded operations  \n",
    "    - addition operator(+)     : implement `__add__` method \n",
    "    - substraction operator(-) : implement `__sub__` method \n",
    "\n",
    "    "
   ]
  },
  {
   "cell_type": "code",
   "execution_count": null,
   "metadata": {
    "deletable": false,
    "nbgrader": {
     "cell_type": "code",
     "checksum": "f56438fcd8aabfacd651d7d1083f8fef",
     "grade": false,
     "grade_id": "cell-106104681ce80401",
     "locked": false,
     "schema_version": 3,
     "solution": true
    },
    "pycharm": {
     "name": "#%%\n"
    }
   },
   "outputs": [],
   "source": [
    "import math\n",
    "\n",
    "class Vector3D:\n",
    "    \"\"\"\n",
    "    Class for manipulation of 3D-vectors\n",
    "    \n",
    "    instance attributes:\n",
    "        coord_x, coord_y, coord_z (float)\n",
    "    \n",
    "    class methods\n",
    "        length (float): returns Euclidean norm of vector\n",
    "        normalize (None): scales coordinates so that resulting vector has length 1\n",
    "        __add__ (Vector3D) returns new vector as vector sum of two vectors\n",
    "        __sub__ (Vector3D) returns new vector as vector difference of two vectors\n",
    "        __repr__: string representation of vector\n",
    "\n",
    "    \"\"\"\n",
    "    # YOUR CODE HERE\n",
    "    ################\n",
    "\n",
    "    \n",
    "    "
   ]
  },
  {
   "cell_type": "code",
   "execution_count": null,
   "metadata": {
    "pycharm": {
     "name": "#%%\n"
    }
   },
   "outputs": [],
   "source": [
    "# Define helper function\n",
    "from pytest import approx\n",
    "def error_message(actual, expected):\n",
    "    return f'Actual {actual} != Expected {expected}'"
   ]
  },
  {
   "cell_type": "code",
   "execution_count": null,
   "metadata": {
    "deletable": false,
    "editable": false,
    "nbgrader": {
     "cell_type": "code",
     "checksum": "c73bb4b6bfc2a7bddddbdda00bc48ba5",
     "grade": true,
     "grade_id": "cell-e8becee65f92a575",
     "locked": true,
     "points": 1,
     "schema_version": 3,
     "solution": false
    },
    "pycharm": {
     "name": "#%%\n"
    }
   },
   "outputs": [],
   "source": [
    "# Verify Vector3D constructor\n",
    "vector = Vector3D(1.0, 2.0, 4.0)\n",
    "\n",
    "assert vector.coord_x == approx(1), error_message(vector.coord_x, 1)\n",
    "assert vector.coord_y == approx(2), error_message(vector.coord_y, 2)\n",
    "assert vector.coord_z == approx(4), error_message(vector.coord_z, 4)"
   ]
  },
  {
   "cell_type": "code",
   "execution_count": null,
   "metadata": {
    "deletable": false,
    "editable": false,
    "nbgrader": {
     "cell_type": "code",
     "checksum": "7d8e2190c6dcee8b8b3d925721d96ed8",
     "grade": true,
     "grade_id": "cell-3328f70c25343894",
     "locked": true,
     "points": 1,
     "schema_version": 3,
     "solution": false
    },
    "pycharm": {
     "name": "#%%\n"
    }
   },
   "outputs": [],
   "source": [
    "# Verify length method in Vector3D class \n",
    "vector = Vector3D(1.0, 2.0, 4.0)\n",
    "\n",
    "assert vector.length() == approx(math.sqrt(21)), error_message(vector.length(), math.sqrt(21))"
   ]
  },
  {
   "cell_type": "code",
   "execution_count": null,
   "metadata": {
    "deletable": false,
    "editable": false,
    "nbgrader": {
     "cell_type": "code",
     "checksum": "a78dc43d4fe3137b0826559f32558733",
     "grade": true,
     "grade_id": "cell-96e5a932f3347dcf",
     "locked": true,
     "points": 1,
     "schema_version": 3,
     "solution": false
    },
    "pycharm": {
     "name": "#%%\n"
    }
   },
   "outputs": [],
   "source": [
    "# Verify norm method in Vector3D class \n",
    "vector = Vector3D(1.0, 2.0, 4.0)\n",
    "\n",
    "vector.renormalize()\n",
    "\n",
    "assert vector.length() == approx(1), error_message(vector.length(), 1)"
   ]
  },
  {
   "cell_type": "code",
   "execution_count": null,
   "metadata": {
    "deletable": false,
    "editable": false,
    "nbgrader": {
     "cell_type": "code",
     "checksum": "87bca64096af25312ff3ea386b048f65",
     "grade": true,
     "grade_id": "cell-1f019ebe8894fb2b",
     "locked": true,
     "points": 1,
     "schema_version": 3,
     "solution": false
    },
    "pycharm": {
     "name": "#%%\n"
    }
   },
   "outputs": [],
   "source": [
    "#Verify addition operator for two vectors \n",
    "avector = Vector3D(1.0, 2.0, 4.0)\n",
    "bvector = Vector3D(2.0, 3.3, 0.9)\n",
    "\n",
    "cvector = avector + bvector\n",
    "\n",
    "assert cvector.coord_x == approx(3.0), error_message(cvector.coord_x, 3)\n",
    "assert cvector.coord_y == approx(5.3), error_message(cvector.coord_y, 5.3)\n",
    "assert cvector.coord_z == approx(4.9), error_message(cvector.coord_z, 4.9)\n"
   ]
  },
  {
   "cell_type": "code",
   "execution_count": null,
   "metadata": {
    "deletable": false,
    "editable": false,
    "nbgrader": {
     "cell_type": "code",
     "checksum": "57055e0ffee23d29fe3e6eced84e64f0",
     "grade": true,
     "grade_id": "cell-965fcb9cfdf9230b",
     "locked": true,
     "points": 1,
     "schema_version": 3,
     "solution": false
    },
    "pycharm": {
     "name": "#%%\n"
    }
   },
   "outputs": [],
   "source": [
    "#Verify substraction operator for two vectors \n",
    "avector = Vector3D(1.0, 2.0, 4.0)\n",
    "bvector = Vector3D(2.0, 0.2, 0.9)\n",
    "\n",
    "cvector = avector - bvector\n",
    "\n",
    "assert cvector.coord_x == approx(-1.0), error_message(cvector.coord_x, -1)\n",
    "assert cvector.coord_y == approx(1.8), error_message(cvector.coord_y, 1.8)\n",
    "assert cvector.coord_z == approx(3.1), error_message(cvector.coord_z, 3,1)"
   ]
  },
  {
   "cell_type": "markdown",
   "metadata": {
    "pycharm": {
     "name": "#%% md\n"
    }
   },
   "source": [
    "### B. Create class for currency data storage \n",
    "\n",
    "Create a class for storing money in SEK or Euros, which provides a set of functions for manipulating the amount and type of currency. \n",
    "\n",
    "* Implement class Money which has the following properties:\n",
    "* Attributes\n",
    "  - conversion_rate stores conversion rate from EUR to SEK (class attribute, default value 10.0)\n",
    "  - currency stores currency type ('SEK' or 'EUR') (instance attribute)\n",
    "  - amount stores amount of money (instance attribute)\n",
    "* Ordinary class methods\n",
    "  - set_conversion_rate(new_conversion_rate) : for setting conversion rate \n",
    "* Overloaded operations\n",
    "  - addition operator(+)     : implement addition of money ammounts* \n",
    "  - substraction operator(-) : implement substraction of money ammounts* \n",
    "  * currency type of result must be currency type of first operand in arithmetical expresion "
   ]
  },
  {
   "cell_type": "code",
   "execution_count": null,
   "metadata": {
    "deletable": false,
    "nbgrader": {
     "cell_type": "code",
     "checksum": "dfba5deb27aa9abc8918ac06bce85a58",
     "grade": false,
     "grade_id": "cell-dbe1d3027a05e5a4",
     "locked": false,
     "schema_version": 3,
     "solution": true
    },
    "pycharm": {
     "name": "#%%\n"
    }
   },
   "outputs": [],
   "source": [
    "class Money:\n",
    "    \"\"\"\n",
    "    A class for manipulation of different currencies\n",
    "    \n",
    "    class attributes:\n",
    "        conversion_rate (float) \n",
    "    instance attributes:\n",
    "        amount (float)\n",
    "        currency (str)\n",
    "    class methods:\n",
    "        set_conversion_rate: resets conversion rate\n",
    "        __add__: implements addition of monies (right side currency converted to left side if different)\n",
    "        __sub__: implements subtraction of monies\n",
    "    \"\"\"\n",
    "    # YOUR CODE HERE\n",
    "    ################"
   ]
  },
  {
   "cell_type": "code",
   "execution_count": null,
   "metadata": {
    "deletable": false,
    "editable": false,
    "nbgrader": {
     "cell_type": "code",
     "checksum": "8d73c1694f1427472f33e6cdfb58d3cf",
     "grade": true,
     "grade_id": "cell-73e7fae89242df32",
     "locked": true,
     "points": 1,
     "schema_version": 3,
     "solution": false
    },
    "pycharm": {
     "name": "#%%\n"
    }
   },
   "outputs": [],
   "source": [
    "#Verify class attribute\n",
    "assert Money.conversion_rate == 10.0, error_message(Money.conversion_rate, 10)"
   ]
  },
  {
   "cell_type": "code",
   "execution_count": null,
   "metadata": {
    "deletable": false,
    "editable": false,
    "nbgrader": {
     "cell_type": "code",
     "checksum": "8e626c9daa5d7a11221793b32377ff69",
     "grade": true,
     "grade_id": "cell-4181fe5f998c9a96",
     "locked": true,
     "points": 1,
     "schema_version": 3,
     "solution": false
    },
    "pycharm": {
     "name": "#%%\n"
    }
   },
   "outputs": [],
   "source": [
    "#Verify instance attributes\n",
    "ma = Money(100, 'SEK')\n",
    "mb = Money(50, 'EUR')\n",
    "assert ma.amount == 100, error_message(ma.amount, 100)\n",
    "assert ma.currency == 'SEK', error_message(ma.currency, 'SEK')\n",
    "assert mb.amount == 50, error_message(mb.amount, 50)\n",
    "assert mb.currency == 'EUR', error_message(mb.currency, 'EUR')"
   ]
  },
  {
   "cell_type": "code",
   "execution_count": null,
   "metadata": {
    "deletable": false,
    "editable": false,
    "nbgrader": {
     "cell_type": "code",
     "checksum": "235cdb103ef1b53852f29c3d25ba7d52",
     "grade": true,
     "grade_id": "cell-fa09de3f68f4fad3",
     "locked": true,
     "points": 1,
     "schema_version": 3,
     "solution": false
    },
    "pycharm": {
     "name": "#%%\n"
    }
   },
   "outputs": [],
   "source": [
    "#Verify addition\n",
    "ma = Money(100, 'SEK')\n",
    "mb = Money(50, 'EUR')\n",
    "mc = ma + mb\n",
    "assert mc.amount == 600, error_message(mc.amount, 600)\n",
    "assert mc.currency == 'SEK', error_message(mc.currency, 'SEK')"
   ]
  },
  {
   "cell_type": "code",
   "execution_count": null,
   "metadata": {
    "deletable": false,
    "editable": false,
    "nbgrader": {
     "cell_type": "code",
     "checksum": "1e0fc1236e8e362b6a1187ac50bec3d9",
     "grade": true,
     "grade_id": "cell-77d09f62ca89cb1d",
     "locked": true,
     "points": 1,
     "schema_version": 3,
     "solution": false
    },
    "pycharm": {
     "name": "#%%\n"
    }
   },
   "outputs": [],
   "source": [
    "#Verify subtraction\n",
    "ma = Money(100, 'SEK')\n",
    "mb = Money(50, 'EUR')\n",
    "md = mb - ma\n",
    "assert md.amount == 40, error_message(md.amount, 40)\n",
    "assert md.currency == 'EUR', error_message(md.currency, 'EUR')"
   ]
  },
  {
   "cell_type": "code",
   "execution_count": null,
   "metadata": {
    "deletable": false,
    "editable": false,
    "nbgrader": {
     "cell_type": "code",
     "checksum": "970f2a4f908d335bb362b6b86b9c3383",
     "grade": true,
     "grade_id": "cell-c2d199586e7c4cbb",
     "locked": true,
     "points": 1,
     "schema_version": 3,
     "solution": false
    },
    "pycharm": {
     "name": "#%%\n"
    }
   },
   "outputs": [],
   "source": [
    "#Set conversion rate\n",
    "ma = Money(100, 'SEK')\n",
    "mb = Money(50, 'EUR')\n",
    "ma.set_conversion_rate(20)\n",
    "assert ma.conversion_rate == 20, error_message(ma.conversion_rate, 20)\n",
    "assert mb.conversion_rate == 20, error_message(mb.conversion_rate, 20)"
   ]
  },
  {
   "cell_type": "markdown",
   "metadata": {
    "pycharm": {
     "name": "#%% md\n"
    }
   },
   "source": [
    "## C. Animals\n",
    "\n",
    "Complete the Animal class to have and a class variable `animals` (list) and two instance variables, `name` (str) and `number` (int). You need to implement `__init__` and `__str__` methods"
   ]
  },
  {
   "cell_type": "code",
   "execution_count": null,
   "metadata": {
    "deletable": false,
    "nbgrader": {
     "cell_type": "code",
     "checksum": "05b718394f9b7a89228a8698b8c748aa",
     "grade": false,
     "grade_id": "cell-f9faff46e9639b35",
     "locked": false,
     "schema_version": 3,
     "solution": true,
     "task": false
    },
    "pycharm": {
     "name": "#%%\n"
    }
   },
   "outputs": [],
   "source": [
    "class Animal:\n",
    "    \"\"\"\n",
    "    A class for storing animals\n",
    "    \n",
    "    class attributes:\n",
    "        animals: (list) to store all animals\n",
    "    instance attributes:\n",
    "        name:  (str) to store animal name\n",
    "        number: (int) to store animal order number (starting with 1)\n",
    "        \n",
    "    class methods:\n",
    "        __str__: string representation of animal, e.g. \"1. Dog\"\n",
    "        \n",
    "    static methods:\n",
    "        zoo: returns string representation of all animals in orderd lies, e.g. \n",
    "           '''\\\n",
    "           1. Dog\n",
    "           2. Cat'''\n",
    "    \"\"\"\n",
    "    # YOUR CODE HERE\n",
    "    ################"
   ]
  },
  {
   "cell_type": "code",
   "execution_count": null,
   "metadata": {
    "deletable": false,
    "editable": false,
    "nbgrader": {
     "cell_type": "code",
     "checksum": "3cb9594f5a641579899558add8292aa6",
     "grade": true,
     "grade_id": "cell-41580406aa20538d",
     "locked": true,
     "points": 1,
     "schema_version": 3,
     "solution": false,
     "task": false
    },
    "pycharm": {
     "name": "#%%\n"
    }
   },
   "outputs": [],
   "source": [
    "Animal.animals.clear()\n",
    "\n",
    "dog = Animal('dog')\n",
    "assert dog.name == 'dog', error_message(dog.name, 'dog')\n",
    "assert dog.number == 1, error_message(dog.number, 1)\n",
    "assert str(dog) == '1. Dog', error_message(str(dog), '1. Dog')\n",
    "\n",
    "cat = Animal('cat')\n",
    "assert cat.name == 'cat', error_message(cat.name, 'cat')\n",
    "assert cat.number == 2, error_message(cat.number, 2)\n",
    "assert str(cat) == '2. Cat', error_message(str(cat), '2. Cat')\n"
   ]
  },
  {
   "cell_type": "markdown",
   "metadata": {
    "pycharm": {
     "name": "#%% md\n"
    }
   },
   "source": [
    "A static method is a function in a class that is like an ordinary function, that does not depend on any instance (no self argument). \n",
    "\n",
    "In a class it is defined with a `@staticmethod` decorator.\n",
    "\n",
    "It can be appended to the class definition as below. Complete the static method so that it returns a string which lists all member animals"
   ]
  },
  {
   "cell_type": "code",
   "execution_count": null,
   "metadata": {
    "deletable": false,
    "editable": false,
    "nbgrader": {
     "cell_type": "code",
     "checksum": "7101b6e56af83c7868835fd8d5b2a71f",
     "grade": true,
     "grade_id": "cell-a89d339b99865f5d",
     "locked": true,
     "points": 1,
     "schema_version": 3,
     "solution": false,
     "task": false
    },
    "pycharm": {
     "name": "#%%\n"
    }
   },
   "outputs": [],
   "source": [
    "Animal.animals.clear()\n",
    "\n",
    "#Generate a list of animals and compare with the class attribute\n",
    "animals = [Animal(a) for a in ['camel', 'donkey', 'hippo']]\n",
    "assert animals == Animal.animals, f'{animals} != {Animal.animals}'\n",
    "\n",
    "#zoo should produce a printout of the defined animals\n",
    "zoo_output = Animal.zoo()\n",
    "print(zoo_output)\n",
    "expected_output = \"\"\"\n",
    "1. Camel\n",
    "2. Donkey\n",
    "3. Hippo\n",
    "\"\"\"\n",
    "\n",
    "condition = zoo_output.strip() == expected_output.strip()\n",
    "error_message = f\"\\n{zoo_output}\\n   !=\\n{expected_output}\"\n",
    "\n",
    "assert condition, error_message"
   ]
  }
 ],
 "metadata": {
  "kernelspec": {
   "display_name": "Python 3",
   "language": "python",
   "name": "python3"
  },
  "language_info": {
   "codemirror_mode": {
    "name": "ipython",
    "version": 3
   },
   "file_extension": ".py",
   "mimetype": "text/x-python",
   "name": "python",
   "nbconvert_exporter": "python",
   "pygments_lexer": "ipython3",
   "version": "3.9.0"
  }
 },
 "nbformat": 4,
 "nbformat_minor": 2
}