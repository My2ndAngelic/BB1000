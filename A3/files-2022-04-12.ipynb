{
 "cells": [
  {
   "cell_type": "markdown",
   "metadata": {},
   "source": [
    "Before you turn this problem in, make sure everything runs as expected. First, **restart the kernel** (in the menubar, select Kernel$\\rightarrow$Restart) and then **run all cells** (in the menubar, select Cell$\\rightarrow$Run All).\n",
    "\n",
    "Make sure you fill in any place that says `YOUR CODE HERE` or \"YOUR ANSWER HERE\", as well as your name and collaborators below:"
   ]
  },
  {
   "cell_type": "code",
   "execution_count": 90,
   "metadata": {},
   "outputs": [],
   "source": [
    "NAME = \"Evan Huynh\""
   ]
  },
  {
   "cell_type": "markdown",
   "metadata": {},
   "source": [
    "---"
   ]
  },
  {
   "cell_type": "markdown",
   "metadata": {},
   "source": [
    "# File handling\n"
   ]
  },
  {
   "cell_type": "markdown",
   "metadata": {},
   "source": [
    "## Creating our reference file\n",
    "\n",
    "In our initial example we create a small reference file by executing the following cell. The so-called cell-magic command `%%file` takes its first argument as a filename and writes the remaining content of the cell to file\n",
    "\n",
    "[More about cell magic](https://ipython.readthedocs.io/en/stable/interactive/magics.html)"
   ]
  },
  {
   "cell_type": "code",
   "execution_count": 91,
   "metadata": {
    "deletable": false,
    "editable": false,
    "nbgrader": {
     "cell_type": "code",
     "checksum": "c9444a35cccea2e914384f3ca1d6b3b3",
     "grade": false,
     "grade_id": "cell-846fa717ec4901bd",
     "locked": true,
     "schema_version": 3,
     "solution": false
    }
   },
   "outputs": [
    {
     "name": "stdout",
     "output_type": "stream",
     "text": [
      "Overwriting composers.txt\n"
     ]
    }
   ],
   "source": [
    "%%file composers.txt\n",
    "dufay\n",
    "ockeghem\n",
    "josquin\n"
   ]
  },
  {
   "cell_type": "markdown",
   "metadata": {},
   "source": [
    "## Reading\n",
    "\n",
    "In the first exercise we recall different forms of reading text files. These are single-line answers that output some text. \n",
    "\n"
   ]
  },
  {
   "cell_type": "markdown",
   "metadata": {},
   "source": [
    "#### Exercise 1\n",
    "What single line is used to return the file content as a single string? Not that the string will contain the end-of-line (newline) character `\\n`"
   ]
  },
  {
   "cell_type": "code",
   "execution_count": 92,
   "metadata": {
    "deletable": false,
    "nbgrader": {
     "cell_type": "code",
     "checksum": "31e09e8cffc968e483a63da99663d648",
     "grade": false,
     "grade_id": "cell-619ee4026f28565c",
     "locked": false,
     "schema_version": 3,
     "solution": true
    }
   },
   "outputs": [
    {
     "data": {
      "text/plain": "'dufay\\nockeghem\\njosquin\\n'"
     },
     "execution_count": 92,
     "metadata": {},
     "output_type": "execute_result"
    }
   ],
   "source": [
    "# YOUR CODE HERE\n",
    "def a():\n",
    "    with open('composers.txt') as f:\n",
    "        return '\\n'.join([line.rstrip('\\n') for line in f.readlines()])\n",
    "a()\n",
    "################"
   ]
  },
  {
   "cell_type": "code",
   "execution_count": 93,
   "metadata": {
    "deletable": false,
    "editable": false,
    "nbgrader": {
     "cell_type": "code",
     "checksum": "8355c1bc80a37feb2ee907c0a67c07e9",
     "grade": true,
     "grade_id": "cell-e16f081e726162ce",
     "locked": true,
     "points": 1,
     "schema_version": 3,
     "solution": false
    }
   },
   "outputs": [],
   "source": [
    "assert _ == '''\\\n",
    "dufay\n",
    "ockeghem\n",
    "josquin\n",
    "'''"
   ]
  },
  {
   "cell_type": "markdown",
   "metadata": {},
   "source": [
    "#### Exercise 2\n",
    "What single line is used to return the file content as a Python list of strings. "
   ]
  },
  {
   "cell_type": "code",
   "execution_count": 94,
   "metadata": {
    "deletable": false,
    "nbgrader": {
     "cell_type": "code",
     "checksum": "1c824f34c50404d900d543baed236793",
     "grade": false,
     "grade_id": "cell-b8288e222d0343fb",
     "locked": false,
     "schema_version": 3,
     "solution": true
    }
   },
   "outputs": [
    {
     "data": {
      "text/plain": "['dufay\\n', 'ockeghem\\n', 'josquin\\n']"
     },
     "execution_count": 94,
     "metadata": {},
     "output_type": "execute_result"
    }
   ],
   "source": [
    "# YOUR CODE HERE\n",
    "def a():\n",
    "    with open('composers.txt') as f:\n",
    "        return f.readlines()[:-1]\n",
    "a()\n",
    "################"
   ]
  },
  {
   "cell_type": "code",
   "execution_count": 95,
   "metadata": {
    "deletable": false,
    "editable": false,
    "nbgrader": {
     "cell_type": "code",
     "checksum": "00273f92eb965e3f6f428abadb84645f",
     "grade": true,
     "grade_id": "cell-3f4d59f2de6a1c5e",
     "locked": true,
     "points": 1,
     "schema_version": 3,
     "solution": false
    }
   },
   "outputs": [],
   "source": [
    "assert _ == ['dufay\\n', 'ockeghem\\n', 'josquin\\n']"
   ]
  },
  {
   "cell_type": "markdown",
   "metadata": {},
   "source": [
    "#### Exercise 3\n",
    "This function will return the lines of the file without the 'end-of-line' characters. Use the [`strip`](https://docs.python.org/3/library/stdtypes.html#str.strip) method"
   ]
  },
  {
   "cell_type": "code",
   "execution_count": 96,
   "metadata": {
    "deletable": false,
    "nbgrader": {
     "cell_type": "code",
     "checksum": "60c1d93623172cf41f69f387db933c7f",
     "grade": false,
     "grade_id": "cell-a53c2938a84d15db",
     "locked": false,
     "schema_version": 3,
     "solution": true
    }
   },
   "outputs": [
    {
     "ename": "IndentationError",
     "evalue": "expected an indented block (2604586809.py, line 6)",
     "output_type": "error",
     "traceback": [
      "\u001B[1;36m  Input \u001B[1;32mIn [96]\u001B[1;36m\u001B[0m\n\u001B[1;33m    return lines\u001B[0m\n\u001B[1;37m    ^\u001B[0m\n\u001B[1;31mIndentationError\u001B[0m\u001B[1;31m:\u001B[0m expected an indented block\n"
     ]
    }
   ],
   "source": [
    "def get_list_of_lines_without_eol_character(filename):\n",
    "    lines = []\n",
    "    for line in open('composers.txt'):\n",
    "        # YOUR CODE HERE\n",
    "        ################\n",
    "    return lines\n",
    " \n",
    "get_list_of_lines_without_eol_character('composers.txt')"
   ]
  },
  {
   "cell_type": "code",
   "execution_count": null,
   "metadata": {
    "deletable": false,
    "editable": false,
    "nbgrader": {
     "cell_type": "code",
     "checksum": "342391e13cbe3b8d8405162c47fc016a",
     "grade": true,
     "grade_id": "cell-de85c7e2aeabc67f",
     "locked": true,
     "points": 1,
     "schema_version": 3,
     "solution": false
    }
   },
   "outputs": [],
   "source": [
    "assert get_list_of_lines_without_eol_character('composers.txt') == ['dufay', 'ockeghem', 'josquin']"
   ]
  },
  {
   "cell_type": "markdown",
   "metadata": {},
   "source": [
    "## Reading numeric data\n",
    "All reading/writing is done with text objects, i.e. reading a '7' will be text string with a single character rather than a numeric value. \n",
    "\n",
    "To get numbers from file intended for computation we have to do a type conversion (typically `int` or `float`)\n",
    "\n",
    "Consider the following file with numbers. \n"
   ]
  },
  {
   "cell_type": "code",
   "execution_count": null,
   "metadata": {
    "deletable": false,
    "editable": false,
    "nbgrader": {
     "cell_type": "code",
     "checksum": "89a414bebe16c2b8da29d6c18a927ed2",
     "grade": false,
     "grade_id": "cell-762fc0f0c9060c95",
     "locked": true,
     "schema_version": 3,
     "solution": false
    }
   },
   "outputs": [],
   "source": [
    "%%file numbers1.txt\n",
    "1\n",
    "2\n",
    "3\n",
    "4\n",
    "5"
   ]
  },
  {
   "cell_type": "markdown",
   "metadata": {},
   "source": [
    "### Exercise 4\n",
    "\n",
    "Write a function that takes a file name as input and returns the sum of the numbers in the file, assuming one per line"
   ]
  },
  {
   "cell_type": "code",
   "execution_count": null,
   "metadata": {
    "deletable": false,
    "nbgrader": {
     "cell_type": "code",
     "checksum": "fee37fccaeb04b3128b02b6c84d6cb51",
     "grade": false,
     "grade_id": "cell-e61d832d811f3cc4",
     "locked": false,
     "schema_version": 3,
     "solution": true
    }
   },
   "outputs": [],
   "source": [
    "def sum_numbers_in_file(filename):\n",
    "    f = open(filename)\n",
    "    number_sum = 0\n",
    "    # YOUR CODE HERE\n",
    "    ################\n",
    "    f.close()\n",
    "    return number_sum \n",
    " \n",
    "sum_numbers_in_file('numbers1.txt')"
   ]
  },
  {
   "cell_type": "code",
   "execution_count": null,
   "metadata": {
    "deletable": false,
    "editable": false,
    "nbgrader": {
     "cell_type": "code",
     "checksum": "851f7cf74d4f4bd1796fa8a1fd0005f4",
     "grade": true,
     "grade_id": "cell-cedf19ef9aeb39f9",
     "locked": true,
     "points": 1,
     "schema_version": 3,
     "solution": false
    }
   },
   "outputs": [],
   "source": [
    "\n",
    "assert sum_numbers_in_file('numbers1.txt') == 15"
   ]
  },
  {
   "cell_type": "markdown",
   "metadata": {
    "deletable": false,
    "editable": false,
    "nbgrader": {
     "cell_type": "markdown",
     "checksum": "835a34b3bb46dbaf7f019f6fd476517c",
     "grade": false,
     "grade_id": "cell-d058b86d284d057d",
     "locked": true,
     "schema_version": 3,
     "solution": false
    }
   },
   "source": [
    "### Exercise 5\n",
    "\n",
    "It was realized that some files have more numbers on several lines such that for a file like\n",
    "\n",
    "    1 2 3 4 5\n",
    "    6 7 8 9 10\n",
    "    \n",
    "could not be handled by this function but we would get an error like\n",
    "\n",
    "    E           ValueError: invalid literal for int() with base 10: '1 2 3 4 5\\n'\n",
    "    \n",
    "\n",
    "In this exercise generalize the function above by copying here. Use the `split` method to split a line into words."
   ]
  },
  {
   "cell_type": "code",
   "execution_count": null,
   "metadata": {
    "deletable": false,
    "editable": false,
    "nbgrader": {
     "cell_type": "code",
     "checksum": "e0ee07910b25086d9bd08c31a5859c12",
     "grade": false,
     "grade_id": "cell-24514acaed652220",
     "locked": true,
     "schema_version": 3,
     "solution": false
    }
   },
   "outputs": [],
   "source": [
    "%%file numbers2.txt\n",
    "1 2 3 4 5\n",
    "6 7 8 9 10\n",
    "\n"
   ]
  },
  {
   "cell_type": "code",
   "execution_count": null,
   "metadata": {},
   "outputs": [],
   "source": [
    "# You may uncomment this line and try\n",
    "# sum_numbers_in_file('numbers2.txt')"
   ]
  },
  {
   "cell_type": "markdown",
   "metadata": {},
   "source": [
    "In this exercise generalize the function from exercise 4. Use the `split` method to split a line into words."
   ]
  },
  {
   "cell_type": "code",
   "execution_count": null,
   "metadata": {
    "deletable": false,
    "nbgrader": {
     "cell_type": "code",
     "checksum": "2473f279b599de0fa8c4a4eda99076c3",
     "grade": false,
     "grade_id": "cell-e61d832d811f3cc5",
     "locked": false,
     "schema_version": 3,
     "solution": true
    }
   },
   "outputs": [],
   "source": [
    "def sum_numbers_in_file(filename):\n",
    "    f = open(filename)\n",
    "    number_sum = 0\n",
    "    # \n",
    "    # YOUR CODE HERE\n",
    "    ################\n",
    "    # COPY YOUR SOLUTION FROM EXERCISE 4 AND MODIFY\n",
    "    f.close()\n",
    "    return number_sum \n",
    "   \n",
    "    \n",
    "sum_numbers_in_file('numbers2.txt')"
   ]
  },
  {
   "cell_type": "code",
   "execution_count": null,
   "metadata": {
    "deletable": false,
    "editable": false,
    "nbgrader": {
     "cell_type": "code",
     "checksum": "7745d9a16646c9a727f8393e1e686a0e",
     "grade": true,
     "grade_id": "cell-b4d65b9e6d0f1e01",
     "locked": true,
     "points": 1,
     "schema_version": 3,
     "solution": false
    }
   },
   "outputs": [],
   "source": [
    "assert sum_numbers_in_file('numbers1.txt') == 15\n",
    "assert sum_numbers_in_file('numbers2.txt') == 55"
   ]
  },
  {
   "cell_type": "markdown",
   "metadata": {},
   "source": [
    "## Writing files\n",
    "\n",
    "When we call the builtin function `open` with a filename as a single argument the default behaviour is to look for an existing file for reading. If it does not exist the system prints  a `FileNotFoundError` and a message like\n",
    "\n",
    "    open('no_such_file')\n",
    "    ---------------------------------------------------------------------------\n",
    "    FileNotFoundError                         Traceback (most recent call last)\n",
    "    <ipython-input-15-b99a18bdaf59> in <module>()\n",
    "    ----> 1 open('no_such_file')\n",
    "\n",
    "    FileNotFoundError: [Errno 2] No such file or directory: 'no_such_file'\n",
    "    \n",
    " \n",
    " \n",
    "To open a new file to be written we have to supply an additional parameter, `w` for writing.\n",
    "\n",
    "    open('new_file', 'w')\n",
    " \n",
    "The `open` function returns a file object which has methods for reading (`read`, `readlines`) and writing (`write`)\n",
    "\n",
    "You can often look up the documentation of a function with"
   ]
  },
  {
   "cell_type": "code",
   "execution_count": null,
   "metadata": {},
   "outputs": [],
   "source": [
    "help(open)"
   ]
  },
  {
   "cell_type": "markdown",
   "metadata": {},
   "source": [
    "### Exercise 6\n",
    "\n",
    "With the content in the multi-line string write down code that writes the following content to a file of the form first_last.txt  and with capitalized names (First, Last) in the text."
   ]
  },
  {
   "cell_type": "code",
   "execution_count": null,
   "metadata": {
    "deletable": false,
    "nbgrader": {
     "cell_type": "code",
     "checksum": "1277a851eeb32891cf52e67c2876353e",
     "grade": false,
     "grade_id": "cell-9e5cf46774b3a243",
     "locked": false,
     "schema_version": 3,
     "solution": true
    }
   },
   "outputs": [],
   "source": [
    "def try_out_names(first, last):\n",
    "    \n",
    "    content = f\"\"\"\n",
    "    'Tis but thy name that is my enemy;\n",
    "    Thou art thyself, though not a Montague.\n",
    "    What's {last}? It is nor hand, nor foot,\n",
    "    Nor arm, nor face, nor any other part\n",
    "    Belonging to a man. O, be some other name!\n",
    "    What's in a name? That which we call a rose\n",
    "    By any other word would smell as sweet;\n",
    "    So {first} would, were he not {first} call'd,\n",
    "    Retain that dear perfection which he owes\n",
    "    Without that title. {first}, doff thy name,\n",
    "    And for that name which is no part of thee\n",
    "    Take all myself.\n",
    "    \"\"\"\n",
    "    \n",
    "    return content\n",
    "\n",
    "def write_to_file(first, last):\n",
    "    \"\"\"\n",
    "    Writes to file {first}_{last}.txt balcony scene with names\n",
    "    \"\"\"\n",
    "    # YOUR CODE HERE\n",
    "    ################\n",
    "    \n",
    "    \n",
    "print(try_out_names('Ronald', 'McDonald'))"
   ]
  },
  {
   "cell_type": "code",
   "execution_count": null,
   "metadata": {
    "deletable": false,
    "editable": false,
    "nbgrader": {
     "cell_type": "code",
     "checksum": "10725d4337002d9beacf8d668eb88e86",
     "grade": true,
     "grade_id": "cell-afe447054344d72a",
     "locked": true,
     "points": 1,
     "schema_version": 3,
     "solution": false
    }
   },
   "outputs": [],
   "source": [
    "# This utility function removes an existing file if it exists\n",
    "# like \"rm -f\"  (unix) or \"del\" (windows)\n",
    "import pathlib\n",
    "def remove_file_if_exists(filename):\n",
    "    p = pathlib.Path(filename)\n",
    "    if p.exists():\n",
    "        p.unlink()\n",
    "\n",
    "\n",
    "# Now write to new file and check contents\n",
    "\n",
    "remove_file_if_exists('romeo_montague.txt')\n",
    "write_to_file('ROMEO', 'MONTAGUE')\n",
    "\n",
    "assert open('romeo_montague.txt').read() == try_out_names(\"Romeo\", \"Montague\")"
   ]
  },
  {
   "cell_type": "markdown",
   "metadata": {},
   "source": [
    "### Exercise 7\n",
    "\n",
    "Writing numeric data to a file implies first converting to a string. The built-in function print does that. Look up the documentation on print how you can use it for writing to a file "
   ]
  },
  {
   "cell_type": "code",
   "execution_count": null,
   "metadata": {},
   "outputs": [],
   "source": [
    "help(print)"
   ]
  },
  {
   "cell_type": "code",
   "execution_count": null,
   "metadata": {
    "deletable": false,
    "nbgrader": {
     "cell_type": "code",
     "checksum": "a392468aab24c1237e44bf1ab167e642",
     "grade": false,
     "grade_id": "cell-df4516027c70782a",
     "locked": false,
     "schema_version": 3,
     "solution": true
    }
   },
   "outputs": [],
   "source": [
    "# Print the number pi to a file with pi.txt using print\n",
    "from math import pi\n",
    "# YOUR CODE HERE\n",
    "################"
   ]
  },
  {
   "cell_type": "code",
   "execution_count": null,
   "metadata": {
    "deletable": false,
    "editable": false,
    "nbgrader": {
     "cell_type": "code",
     "checksum": "1289ca0bb71fde026a1b11d5f404cf89",
     "grade": true,
     "grade_id": "cell-37e29477ff926375",
     "locked": true,
     "points": 1,
     "schema_version": 3,
     "solution": false
    }
   },
   "outputs": [],
   "source": [
    "# Check the first four characters in the file\n",
    "assert open('pi.txt').read()[:4] == '3.14'"
   ]
  },
  {
   "cell_type": "markdown",
   "metadata": {},
   "source": [
    "### Exercise 8\n",
    "Implement a file copy command command with Python read an write commands\n"
   ]
  },
  {
   "cell_type": "code",
   "execution_count": null,
   "metadata": {
    "deletable": false,
    "nbgrader": {
     "cell_type": "code",
     "checksum": "c404252accc3be9af0c329e8bd602a4e",
     "grade": false,
     "grade_id": "cell-6360c6f2039531d7",
     "locked": false,
     "schema_version": 3,
     "solution": true
    }
   },
   "outputs": [],
   "source": [
    "def cp(source, target):\n",
    "    \"\"\"\n",
    "    Copies textfile source to target\n",
    "    \"\"\"\n",
    "    # YOUR CODE HERE\n",
    "    ################"
   ]
  },
  {
   "cell_type": "code",
   "execution_count": null,
   "metadata": {
    "deletable": false,
    "editable": false,
    "nbgrader": {
     "cell_type": "code",
     "checksum": "eaccc690403274764ec9bed34cd444b5",
     "grade": false,
     "grade_id": "cell-f8c9c62b3953114a",
     "locked": true,
     "schema_version": 3,
     "solution": false,
     "task": false
    }
   },
   "outputs": [],
   "source": [
    "%%file blake.txt\n",
    "To see a World in a Grain of Sand\n",
    "And a Heaven in a Wild Flower,\n",
    "Hold Infinity in the palm of your hand \n",
    "And Eternity in an hour."
   ]
  },
  {
   "cell_type": "code",
   "execution_count": null,
   "metadata": {
    "deletable": false,
    "editable": false,
    "nbgrader": {
     "cell_type": "code",
     "checksum": "e23873b8caae86d04082df6ec33bddca",
     "grade": true,
     "grade_id": "cell-d7bfacb6d05ced8a",
     "locked": true,
     "points": 1,
     "schema_version": 3,
     "solution": false,
     "task": false
    }
   },
   "outputs": [],
   "source": [
    "cp('blake.txt', 'poem.txt')\n",
    "assert open('blake.txt').read() == open('poem.txt').read()"
   ]
  }
 ],
 "metadata": {
  "kernelspec": {
   "display_name": "Python 3",
   "language": "python",
   "name": "python3"
  },
  "language_info": {
   "codemirror_mode": {
    "name": "ipython",
    "version": 3
   },
   "file_extension": ".py",
   "mimetype": "text/x-python",
   "name": "python",
   "nbconvert_exporter": "python",
   "pygments_lexer": "ipython3",
   "version": "3.8.5"
  }
 },
 "nbformat": 4,
 "nbformat_minor": 2
}