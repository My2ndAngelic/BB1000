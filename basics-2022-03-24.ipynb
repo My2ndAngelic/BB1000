{
 "cells": [
  {
   "cell_type": "markdown",
   "metadata": {},
   "source": [
    "Before you turn this problem in, make sure everything runs as expected. First, **restart the kernel** (in the menubar, select Kernel$\\rightarrow$Restart) and then **run all cells** (in the menubar, select Cell$\\rightarrow$Run All).\n",
    "\n",
    "Make sure you fill in any place that says `YOUR CODE HERE` or \"YOUR ANSWER HERE\", as well as your name and collaborators below:"
   ]
  },
  {
   "cell_type": "code",
   "execution_count": 56,
   "metadata": {},
   "outputs": [],
   "source": [
    "NAME = \"Evan Huynh\"\n",
    "COLLABORATORS = \"\""
   ]
  },
  {
   "cell_type": "markdown",
   "metadata": {},
   "source": [
    "---"
   ]
  },
  {
   "cell_type": "markdown",
   "metadata": {},
   "source": [
    "## Lab: basic Python syntax\n"
   ]
  },
  {
   "cell_type": "markdown",
   "metadata": {
    "deletable": false,
    "editable": false,
    "nbgrader": {
     "cell_type": "markdown",
     "checksum": "e85f0c544c5fd752b49cb220ce12171a",
     "grade": false,
     "grade_id": "cell-d841305055b00f7f",
     "locked": true,
     "schema_version": 3,
     "solution": false
    }
   },
   "source": [
    "#### Exercise 1\n",
    "Write a function 'mymax' that accepts two numbers as parameters and that prints the larger number to the screen. For this elementary exercise, do not use the built-in function 'max()' - just revert to elementary expressions and statements."
   ]
  },
  {
   "cell_type": "code",
   "execution_count": 57,
   "metadata": {
    "deletable": false,
    "nbgrader": {
     "cell_type": "code",
     "checksum": "3b9fe16ba26dcaf2eb173fad87c4b74d",
     "grade": false,
     "grade_id": "cell-ee8c56c7cc588b03",
     "locked": false,
     "schema_version": 3,
     "solution": true
    }
   },
   "outputs": [
    {
     "name": "stdout",
     "output_type": "stream",
     "text": [
      "6\n",
      "5\n"
     ]
    }
   ],
   "source": [
    "def mymax(x, y):\n",
    "    \"\"\"\n",
    "    Returns the maximum of x and y\n",
    "    \"\"\"\n",
    "    # YOUR CODE HERE\n",
    "    return x if x > y else y\n",
    "    ################\n",
    "\n",
    "\n",
    "print(mymax(2, 6))\n",
    "print(mymax(5, 3))"
   ]
  },
  {
   "cell_type": "code",
   "execution_count": 58,
   "metadata": {
    "deletable": false,
    "editable": false,
    "nbgrader": {
     "cell_type": "code",
     "checksum": "ede23a71ffe72a41f63b5c06c0fd2258",
     "grade": true,
     "grade_id": "cell-304328f9c7d4c051",
     "locked": true,
     "points": 1,
     "schema_version": 3,
     "solution": false
    }
   },
   "outputs": [],
   "source": [
    "assert mymax(2, 6) == 6, f'mymax(2, 6) -> {mymax(2, 6)} != 6'\n",
    "assert mymax(5, 3) == 5, f'mymax(5, 3) -> {mymax(5, 3)} != 5'"
   ]
  },
  {
   "cell_type": "code",
   "execution_count": 59,
   "metadata": {
    "deletable": false,
    "editable": false,
    "nbgrader": {
     "cell_type": "code",
     "checksum": "ad44c608f334f20eb6e1914c037cba33",
     "grade": true,
     "grade_id": "cell-3de8d447b6562bf0",
     "locked": true,
     "points": 1,
     "schema_version": 3,
     "solution": false,
     "task": false
    }
   },
   "outputs": [],
   "source": [
    "import unittest.mock\n",
    "with unittest.mock.patch('__main__.max') as mockmax:\n",
    "    mymax(2, 6)\n",
    "mockmax.assert_not_called()"
   ]
  },
  {
   "cell_type": "markdown",
   "metadata": {
    "deletable": false,
    "editable": false,
    "nbgrader": {
     "cell_type": "markdown",
     "checksum": "ab8d45123f6ba4f80724423578c7cb99",
     "grade": false,
     "grade_id": "cell-7e57cd736d5abc19",
     "locked": true,
     "schema_version": 3,
     "solution": false
    }
   },
   "source": [
    "#### Exercise 2\n",
    "\n",
    "Write a function to sum the elements of a sequence with a for loop. You can assume that it consists of numeric values. Do not use the builtin sum function"
   ]
  },
  {
   "cell_type": "code",
   "execution_count": 60,
   "metadata": {
    "deletable": false,
    "nbgrader": {
     "cell_type": "code",
     "checksum": "1b931765d66806206826a74f9db0273a",
     "grade": false,
     "grade_id": "cell-5ac58bb5e671db91",
     "locked": false,
     "schema_version": 3,
     "solution": true,
     "task": false
    }
   },
   "outputs": [
    {
     "name": "stdout",
     "output_type": "stream",
     "text": [
      "3\n",
      "1.75\n",
      "8\n"
     ]
    }
   ],
   "source": [
    "def mysum(sequence):\n",
    "    \"\"\"\n",
    "    Returns the sum of the elements in sequence\n",
    "\n",
    "    I have had some fun with it using lambda expression.\n",
    "    Source: https://stackoverflow.com/questions/20253651/recursively-sum-the-integers-in-an-array\n",
    "    \"\"\"\n",
    "    # YOUR CODE HERE\n",
    "    return sequence[0] if len(sequence) == 1 else sequence[0] + mysum(sequence[1::])\n",
    "    ################\n",
    "\n",
    "\n",
    "print(mysum([1, 2]))\n",
    "print(mysum([1, 1/2, 1/4]))\n",
    "print(mysum([2, 6]))"
   ]
  },
  {
   "cell_type": "code",
   "execution_count": 61,
   "metadata": {
    "deletable": false,
    "editable": false,
    "nbgrader": {
     "cell_type": "code",
     "checksum": "31ffc9668cca29c452d83ebc57871139",
     "grade": true,
     "grade_id": "cell-24ac435261756312",
     "locked": true,
     "points": 1,
     "schema_version": 3,
     "solution": false
    }
   },
   "outputs": [],
   "source": [
    "assert mysum([1, 2]) == 3, f'mysum([1, 2]) -> {mysum([1, 2])} != 3'\n",
    "assert mysum((1, 1/2, 1/4)) == 1.75, f'mysum((1, 1/2, 1/4)) -> {mysum((1, 1/2, 1/4))} != 1.75'"
   ]
  },
  {
   "cell_type": "code",
   "execution_count": 62,
   "metadata": {
    "deletable": false,
    "editable": false,
    "nbgrader": {
     "cell_type": "code",
     "checksum": "2f46ad8bf5c24c517a155654fd846e96",
     "grade": true,
     "grade_id": "cell-f3e385c711f70755",
     "locked": true,
     "points": 1,
     "schema_version": 3,
     "solution": false,
     "task": false
    }
   },
   "outputs": [],
   "source": [
    "import unittest.mock\n",
    "with unittest.mock.patch('__main__.sum') as mocksum:\n",
    "    mysum((2, 6))\n",
    "mocksum.assert_not_called()"
   ]
  },
  {
   "cell_type": "markdown",
   "metadata": {
    "deletable": false,
    "editable": false,
    "nbgrader": {
     "cell_type": "markdown",
     "checksum": "ce4e1a6901bb8d84db1d25684780b051",
     "grade": false,
     "grade_id": "cell-0fcb64dce5cad45f",
     "locked": true,
     "schema_version": 3,
     "solution": false
    }
   },
   "source": [
    "#### Exercise 3\n",
    "\n",
    "Variables of `str` type has a method `join` defined such that when a sequence (e.g. `list`, `tuple`) of strings is given as an argument, they are concatenated to a single string with the variable as a separator. E.g.\n",
    "\n",
    "    >>> separator = '-'\n",
    "    >>> separator.join(['father', 'in', 'law'])\n",
    "    'father-in-law'\n",
    "\n",
    "Use the `join` to generate a histogram with stars such that \n",
    "\n",
    "    histogram([3, 4, 1]) \n",
    "    \n",
    "returns\n",
    "\n",
    "    ***\n",
    "    ****\n",
    "    *\n",
    "\n"
   ]
  },
  {
   "cell_type": "code",
   "execution_count": 63,
   "metadata": {
    "deletable": false,
    "nbgrader": {
     "cell_type": "code",
     "checksum": "4d886b5250ceef0da610b6c13b0e77b4",
     "grade": false,
     "grade_id": "cell-631ae09a389a66d4",
     "locked": false,
     "schema_version": 3,
     "solution": true
    }
   },
   "outputs": [
    {
     "name": "stdout",
     "output_type": "stream",
     "text": [
      "Example: the histogram of [3, 4, 1] is \n",
      "***\n",
      "****\n",
      "*\n"
     ]
    }
   ],
   "source": [
    "def histogram(sequence):\n",
    "    \"\"\"\n",
    "    Returns histogram in the form of characters\n",
    "    \n",
    "    >>> histogram([3, 4, 1])\n",
    "    ***\n",
    "    ****\n",
    "    *\n",
    "    \n",
    "    \"\"\"\n",
    "    # YOUR CODE HERE\n",
    "    return \"\\n\".join([\"*\" * _ for _ in sequence])\n",
    "    ################\n",
    "    \n",
    "\n",
    "print(f'Example: the histogram of [3, 4, 1] is \\n{histogram([3, 4, 1])}')"
   ]
  },
  {
   "cell_type": "code",
   "execution_count": 64,
   "metadata": {
    "deletable": false,
    "editable": false,
    "nbgrader": {
     "cell_type": "code",
     "checksum": "d5be35305459bbbe704eab09b1d0f57b",
     "grade": true,
     "grade_id": "cell-901ea19debe3ee4c",
     "locked": true,
     "points": 1,
     "schema_version": 3,
     "solution": false
    }
   },
   "outputs": [],
   "source": [
    "assert histogram([]) == \"\", f'\"{histogram([])}\" != \"\" '\n",
    "assert histogram([1, 2]) == \"*\\n**\", f'\"{histogram([1, 2])}\" != \\n\"*\\n**\"'\n",
    "assert histogram([1, 2, 3]) == \"*\\n**\\n***\", f'\"{histogram([1, 2, 3])}\" != \\n \"*\\n**\\n***\"'"
   ]
  },
  {
   "cell_type": "markdown",
   "metadata": {
    "deletable": false,
    "editable": false,
    "nbgrader": {
     "cell_type": "markdown",
     "checksum": "9ac20f3e33cc51d8873efe3aaf431360",
     "grade": false,
     "grade_id": "cell-191cda8f80a291fe",
     "locked": true,
     "schema_version": 3,
     "solution": false
    }
   },
   "source": [
    "#### Exercise 4\n",
    "\n",
    "Compute how many times a character is present in a string. Use a dictionary to represent the string. "
   ]
  },
  {
   "cell_type": "code",
   "execution_count": 65,
   "metadata": {
    "deletable": false,
    "nbgrader": {
     "cell_type": "code",
     "checksum": "35ce581e8960f4e1e4a50c8a4def1cce",
     "grade": false,
     "grade_id": "cell-94b1ecc182583f9b",
     "locked": false,
     "schema_version": 3,
     "solution": true
    }
   },
   "outputs": [
    {
     "name": "stdout",
     "output_type": "stream",
     "text": [
      "Example: Character count of 'ABBA': {'A': 2, 'B': 2} \n",
      "Expected {'A': 2, 'B': 2}\n"
     ]
    }
   ],
   "source": [
    "def character_count(text):\n",
    "    \"\"\"\n",
    "    Returns character count of text\n",
    "    Input: text of type str\n",
    "    Output: dict that maps a character to a number count\n",
    "\n",
    "    Source:\n",
    "        https://stackoverflow.com/questions/5664494/letter-count-dictionary\n",
    "        https://stackoverflow.com/questions/40950905/find-count-of-characters-within-the-string-in-python\n",
    "    \"\"\"\n",
    "    # YOUR CODE HERE\n",
    "    return {e : text.count(e) for e in text}\n",
    "    ################\n",
    "\n",
    "\n",
    "print(f\"Example: Character count of 'ABBA': {character_count('ABBA')} \\nExpected {{'A': 2, 'B': 2}}\")"
   ]
  },
  {
   "cell_type": "code",
   "execution_count": 66,
   "metadata": {
    "deletable": false,
    "editable": false,
    "nbgrader": {
     "cell_type": "code",
     "checksum": "f4b93d750c28b8f37e4c41970e831022",
     "grade": true,
     "grade_id": "cell-2a787760db753909",
     "locked": true,
     "points": 1,
     "schema_version": 3,
     "solution": false
    }
   },
   "outputs": [],
   "source": [
    "calculated = character_count(\"ABBA\")\n",
    "expected = {\"A\": 2, \"B\": 2}\n",
    "assert calculated == expected, f'{calculated} != {expected}'\n",
    "\n",
    "calculated = character_count(\"CCGGAAGAGCTTACTTAG\")\n",
    "expected = {\"A\": 5, \"C\": 4, \"G\": 5, \"T\": 4}\n",
    "assert calculated == expected, f'{calculated} != {expected}'"
   ]
  },
  {
   "cell_type": "markdown",
   "metadata": {
    "deletable": false,
    "editable": false,
    "nbgrader": {
     "cell_type": "markdown",
     "checksum": "8bf8dfb6fdd1febab23a4d66b19d6777",
     "grade": false,
     "grade_id": "cell-e61ece745b1ea220",
     "locked": true,
     "schema_version": 3,
     "solution": false
    }
   },
   "source": [
    "#### Exercise 5\n",
    "\n",
    "A simple encryption scheme known as Caesarian roll, is obtained by shifting characters a fixed amount. In Python we can obtain the order of a character with the `ord` function\n",
    "\n",
    "    >>> ord('A')\n",
    "    65\n",
    "    \n",
    "and there reverse operation\n",
    "\n",
    "    >>> chr(65)\n",
    "    'A' \n",
    "    \n",
    "Use this in a function that takes a string and returns the encrypted representation"
   ]
  },
  {
   "cell_type": "code",
   "execution_count": 67,
   "metadata": {
    "deletable": false,
    "nbgrader": {
     "cell_type": "code",
     "checksum": "1e8efff593b9eb46d811df4f376cfee0",
     "grade": false,
     "grade_id": "cell-95b86ffef93462ec",
     "locked": false,
     "schema_version": 3,
     "solution": true
    }
   },
   "outputs": [
    {
     "name": "stdout",
     "output_type": "stream",
     "text": [
      "a\n",
      "CDDC\n",
      "ABBA\n"
     ]
    }
   ],
   "source": [
    "def caesar_shift(text, n):\n",
    "    \"\"\"\n",
    "    Returns an encrypted string by shifting input characters by n\n",
    "    This is bloated but the basic idea is:\n",
    "    - Split the string into list with length 1\n",
    "    - Perform Caesar shift mod 26 (ASCII table)\n",
    "    - Join the list\n",
    "    \"\"\"\n",
    "    # YOUR CODE HERE\n",
    "def caesar_shift(text, n):\n",
    "    return ''.join(list(map(lambda x: chr(x), list(map(lambda x: (ord(x) + n - ((1 << 6) + (1 << 0))) % ((1 << 4) + (1 << 3) + (1 << 1)) + ((1 << 6) + (1 << 0)) if ((1 << 6) + (1 << 0)) <= ord(x) <= ((1 << 6) + (1 << 4) + (1 << 3) + (1 << 1) + (1 << 0)) else (ord(x)  + n - ((1 << 6) + (1 << 5) + (1 << 0))) % ((1 << 4) + (1 << 3) + (1 << 1)) + ((1 << 6) + (1 << 5) + (1 << 0)) if ((1 << 6) + (1 << 5) + (1 << 0)) <= ord(x) <= ((1 << 6) + (1 << 5) + (1 << 4) + (1 << 3) + (1 << 1) + (1 << 0)) else ord(x), [text[x:x + (1 << 0)] for x in range(0, len(text))])))))\n",
    "    ################\n",
    "\n",
    "\n",
    "print(caesar_shift('a', 0))\n",
    "print(caesar_shift('ABBA', 2))\n",
    "print(caesar_shift('CDDC', -2))"
   ]
  },
  {
   "cell_type": "code",
   "execution_count": 68,
   "metadata": {
    "deletable": false,
    "editable": false,
    "nbgrader": {
     "cell_type": "code",
     "checksum": "b29c977e7bd715cbcb01139981327d1f",
     "grade": true,
     "grade_id": "cell-4403018cd26de943",
     "locked": true,
     "points": 1,
     "schema_version": 3,
     "solution": false
    }
   },
   "outputs": [],
   "source": [
    "assert caesar_shift('a', 0) == 'a'\n",
    "assert caesar_shift('ABBA', 2) == 'CDDC'"
   ]
  },
  {
   "cell_type": "code",
   "execution_count": 69,
   "metadata": {
    "deletable": false,
    "editable": false,
    "nbgrader": {
     "cell_type": "code",
     "checksum": "ff40157b1d0bc9794e9310edc71600c9",
     "grade": true,
     "grade_id": "cell-d1495046a475f21c",
     "locked": true,
     "points": 1,
     "schema_version": 3,
     "solution": false,
     "task": false
    }
   },
   "outputs": [],
   "source": [
    "assert caesar_shift('CDDC', -2) == 'ABBA'"
   ]
  }
 ],
 "metadata": {
  "kernelspec": {
   "display_name": "Python 3",
   "language": "python",
   "name": "python3"
  },
  "language_info": {
   "codemirror_mode": {
    "name": "ipython",
    "version": 3
   },
   "file_extension": ".py",
   "mimetype": "text/x-python",
   "name": "python",
   "nbconvert_exporter": "python",
   "pygments_lexer": "ipython3",
   "version": "3.9.0"
  }
 },
 "nbformat": 4,
 "nbformat_minor": 2
}